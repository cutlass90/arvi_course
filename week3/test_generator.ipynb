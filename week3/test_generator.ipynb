{
 "cells": [
  {
   "cell_type": "code",
   "execution_count": 1,
   "metadata": {},
   "outputs": [
    {
     "name": "stderr",
     "output_type": "stream",
     "text": [
      "Using TensorFlow backend.\n"
     ]
    }
   ],
   "source": [
    "import random\n",
    "import os\n",
    "\n",
    "from scipy.ndimage import imread\n",
    "from scipy.misc import imsave\n",
    "import numpy as np\n",
    "from scipy.signal import resample\n",
    "from scipy import ndimage as nd\n",
    "import pandas as pd\n",
    "import matplotlib.pyplot as plt\n",
    "\n",
    "import tools\n",
    "from config import config as c"
   ]
  },
  {
   "cell_type": "code",
   "execution_count": 2,
   "metadata": {},
   "outputs": [],
   "source": [
    "train_gen, test_gen = tools.get_generators(c)"
   ]
  },
  {
   "cell_type": "code",
   "execution_count": 3,
   "metadata": {},
   "outputs": [
    {
     "name": "stderr",
     "output_type": "stream",
     "text": [
      "/media/nazar/DATA/ARVI_course/arvi_projects/week3/tools.py:183: ParserWarning: Falling back to the 'python' engine because the 'c' engine does not support regex separators (separators > 1 char and different from '\\s+' are interpreted as regex); you can avoid this warning by specifying engine='python'.\n",
      "  au = pd.read_csv(label, delimiter='   ', names=['emotion', 'value'])\n"
     ]
    }
   ],
   "source": [
    "b = next(train_gen)"
   ]
  },
  {
   "cell_type": "code",
   "execution_count": 4,
   "metadata": {},
   "outputs": [
    {
     "name": "stdout",
     "output_type": "stream",
     "text": [
      "(2, 20, 240, 320)\n"
     ]
    }
   ],
   "source": [
    "img_inputs = b[0]['img_inputs'].squeeze()\n",
    "print(img_inputs.shape)\n",
    "landmark_inputs = b[0]['landmark_inputs']\n",
    "out_emotion = b[1]['out_emotion']\n",
    "out_au = b[1]['out_au']"
   ]
  },
  {
   "cell_type": "code",
   "execution_count": 5,
   "metadata": {},
   "outputs": [],
   "source": [
    "img_inputs = ((img_inputs + 1) * 127.5).astype(np.uint8)\n",
    "img_inputs = img_inputs[0]\n",
    "_ = [imsave('./resampled_{}.png'.format(i), img) for i, img in enumerate(img_inputs)]"
   ]
  },
  {
   "cell_type": "code",
   "execution_count": 6,
   "metadata": {},
   "outputs": [
    {
     "data": {
      "text/plain": [
       "array([[[ 94, 151, 172, ...,  56,   7,   0],\n",
       "        [ 28,  48,  52, ...,  16,   3,   0],\n",
       "        [ 81, 133, 144, ...,  52,   8,   0],\n",
       "        ..., \n",
       "        [  8,   8,   4, ...,  25,  27,  25],\n",
       "        [  8,   4,   7, ...,  48,  28,  27],\n",
       "        [  6,   1,  14, ...,  79,  33,  23]],\n",
       "\n",
       "       [[ 97, 150, 167, ...,  64,   8,   0],\n",
       "        [ 28,  46,  51, ...,  20,   3,   0],\n",
       "        [ 79, 130, 141, ...,  56,   8,   0],\n",
       "        ..., \n",
       "        [  8,   8,   6, ...,  27,  28,  27],\n",
       "        [  7,   3,   4, ...,  47,  28,  25],\n",
       "        [  7,   1,  11, ...,  81,  33,  24]],\n",
       "\n",
       "       [[102, 152, 168, ...,  55,   7,   0],\n",
       "        [ 28,  45,  52, ...,  20,   4,   0],\n",
       "        [ 78, 134, 144, ...,  52,   8,   0],\n",
       "        ..., \n",
       "        [  8,   8,   4, ...,  24,  27,  24],\n",
       "        [  7,   3,   6, ...,  46,  28,  28],\n",
       "        [  6,   0,  12, ...,  78,  35,  25]],\n",
       "\n",
       "       ..., \n",
       "       [[ 95, 150, 170, ...,  61,   8,   1],\n",
       "        [ 30,  47,  52, ...,  19,   3,   0],\n",
       "        [ 81, 131, 143, ...,  54,   6,   1],\n",
       "        ..., \n",
       "        [  8,   6,   3, ...,  25,  24,  25],\n",
       "        [  3,   1,  20, ...,  64,  33,  28],\n",
       "        [  0,   3,  40, ..., 107,  48,  28]],\n",
       "\n",
       "       [[ 96, 152, 170, ...,  61,   9,   0],\n",
       "        [ 30,  47,  52, ...,  17,   4,   1],\n",
       "        [ 79, 132, 144, ...,  53,   8,   1],\n",
       "        ..., \n",
       "        [  7,   4,   3, ...,  25,  27,  24],\n",
       "        [  4,   1,  24, ...,  64,  35,  28],\n",
       "        [  0,   3,  46, ..., 114,  53,  28]],\n",
       "\n",
       "       [[ 96, 156, 170, ...,  56,   7,   0],\n",
       "        [ 28,  47,  52, ...,  17,   3,   0],\n",
       "        [ 73, 125, 140, ...,  56,   8,   0],\n",
       "        ..., \n",
       "        [  8,   4,   4, ...,  24,  24,  27],\n",
       "        [  4,   3,  24, ...,  63,  35,  30],\n",
       "        [  0,   4,  48, ..., 108,  53,  30]]], dtype=uint8)"
      ]
     },
     "execution_count": 6,
     "metadata": {},
     "output_type": "execute_result"
    }
   ],
   "source": [
    "img_inputs"
   ]
  },
  {
   "cell_type": "code",
   "execution_count": null,
   "metadata": {},
   "outputs": [],
   "source": []
  }
 ],
 "metadata": {
  "kernelspec": {
   "display_name": "Python 3",
   "language": "python",
   "name": "python3"
  },
  "language_info": {
   "codemirror_mode": {
    "name": "ipython",
    "version": 3
   },
   "file_extension": ".py",
   "mimetype": "text/x-python",
   "name": "python",
   "nbconvert_exporter": "python",
   "pygments_lexer": "ipython3",
   "version": "3.5.2"
  }
 },
 "nbformat": 4,
 "nbformat_minor": 2
}
