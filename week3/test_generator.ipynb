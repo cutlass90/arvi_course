{
 "cells": [
  {
   "cell_type": "code",
   "execution_count": 1,
   "metadata": {},
   "outputs": [
    {
     "name": "stderr",
     "output_type": "stream",
     "text": [
      "Using TensorFlow backend.\n"
     ]
    }
   ],
   "source": [
    "import random\n",
    "import os\n",
    "\n",
    "from scipy.ndimage import imread\n",
    "from scipy.misc import imsave\n",
    "import numpy as np\n",
    "from scipy.signal import resample\n",
    "from scipy import ndimage as nd\n",
    "import pandas as pd\n",
    "import matplotlib.pyplot as plt\n",
    "\n",
    "import tools\n",
    "from config import config as c"
   ]
  },
  {
   "cell_type": "code",
   "execution_count": 2,
   "metadata": {},
   "outputs": [
    {
     "name": "stdout",
     "output_type": "stream",
     "text": [
      "Paths were loaded\n"
     ]
    }
   ],
   "source": [
    "train_gen, test_gen = tools.get_generators(c)"
   ]
  },
  {
   "cell_type": "code",
   "execution_count": 3,
   "metadata": {},
   "outputs": [
    {
     "name": "stderr",
     "output_type": "stream",
     "text": [
      "/media/nazar/DATA/ARVI_course/arvi_projects/week3/tools.py:225: ParserWarning: Falling back to the 'python' engine because the 'c' engine does not support regex separators (separators > 1 char and different from '\\s+' are interpreted as regex); you can avoid this warning by specifying engine='python'.\n",
      "  au = pd.read_csv(label, delimiter='   ', names=['emotion', 'value'])\n"
     ]
    },
    {
     "name": "stdout",
     "output_type": "stream",
     "text": [
      "(16, 10, 224, 224)\n"
     ]
    }
   ],
   "source": [
    "b = next(train_gen)\n",
    "img_inputs = b[0]['img_inputs'].squeeze()\n",
    "print(img_inputs.shape)\n",
    "landmark_inputs = b[0]['landmark_inputs']\n",
    "out_emotion = b[1]['out_emotion']\n",
    "out_au = b[1]['out_au']\n",
    "img_inputs = ((img_inputs + 1) * 127.5).astype(np.uint8)"
   ]
  },
  {
   "cell_type": "code",
   "execution_count": 4,
   "metadata": {},
   "outputs": [],
   "source": [
    "_ = [imsave('./resampled_{}.png'.format(i), img) for i, img in enumerate(img_inputs[10])]"
   ]
  },
  {
   "cell_type": "code",
   "execution_count": 11,
   "metadata": {},
   "outputs": [
    {
     "data": {
      "text/plain": [
       "array([[ 1.,  0.,  0.,  0.,  0.,  0.,  0.],\n",
       "       [ 0.,  0.,  0.,  0.,  0.,  0.,  0.],\n",
       "       [ 0.,  0.,  0.,  0.,  1.,  0.,  0.],\n",
       "       [ 0.,  0.,  0.,  0.,  0.,  0.,  0.]])"
      ]
     },
     "execution_count": 11,
     "metadata": {},
     "output_type": "execute_result"
    }
   ],
   "source": [
    "out_emotion"
   ]
  },
  {
   "cell_type": "code",
   "execution_count": 9,
   "metadata": {},
   "outputs": [
    {
     "data": {
      "text/plain": [
       "array([[ 1.,  0.,  0.,  0.,  1.,  0.,  0.,  0.,  0.,  0.,  0.,  0.,  0.,\n",
       "         0.,  0.,  0.,  1.,  0.,  0.,  0.,  0.,  0.,  0.,  0.,  0.,  0.,\n",
       "         0.,  0.,  0.,  0.,  0.,  0.,  1.,  0.,  0.,  0.,  0.,  0.,  0.,\n",
       "         0.,  0.],\n",
       "       [ 0.,  0.,  0.,  0.,  1.,  0.,  1.,  1.,  1.,  0.,  0.,  0.,  0.,\n",
       "         0.,  0.,  0.,  1.,  0.,  0.,  0.,  0.,  0.,  0.,  0.,  0.,  0.,\n",
       "         0.,  0.,  0.,  0.,  0.,  0.,  0.,  0.,  0.,  0.,  0.,  0.,  0.,\n",
       "         0.,  0.],\n",
       "       [ 1.,  0.,  0.,  1.,  0.,  1.,  0.,  0.,  0.,  0.,  0.,  0.,  0.,\n",
       "         0.,  0.,  0.,  0.,  0.,  0.,  0.,  0.,  0.,  0.,  1.,  1.,  0.,\n",
       "         0.,  0.,  0.,  0.,  0.,  0.,  0.,  0.,  0.,  0.,  0.,  0.,  0.,\n",
       "         0.,  0.],\n",
       "       [ 0.,  0.,  0.,  0.,  0.,  0.,  0.,  0.,  0.,  0.,  1.,  0.,  0.,\n",
       "         0.,  0.,  0.,  0.,  0.,  1.,  0.,  0.,  0.,  0.,  1.,  0.,  0.,\n",
       "         0.,  0.,  0.,  0.,  0.,  0.,  0.,  0.,  0.,  0.,  0.,  0.,  0.,\n",
       "         0.,  0.]])"
      ]
     },
     "execution_count": 9,
     "metadata": {},
     "output_type": "execute_result"
    }
   ],
   "source": [
    "out_au"
   ]
  },
  {
   "cell_type": "code",
   "execution_count": 9,
   "metadata": {},
   "outputs": [
    {
     "data": {
      "text/plain": [
       "array([[[-1.1       ,  0.14      , -1.1       , ...,  0.98      ,\n",
       "         -0.08      ,  0.96      ],\n",
       "        [-1.06842208,  0.14703056, -1.06842208, ...,  0.97040171,\n",
       "         -0.06861426,  0.95079763],\n",
       "        [-1.06842208,  0.12742649, -1.06842208, ...,  0.97040171,\n",
       "         -0.06861426,  0.95079763],\n",
       "        ..., \n",
       "        [-1.06842208,  0.10782241, -1.06842208, ...,  1.08802616,\n",
       "         -0.10782241,  1.06842208],\n",
       "        [-1.04901961,  0.07843137, -1.04901961, ...,  1.09803922,\n",
       "         -0.12745098,  1.07843137],\n",
       "        [-1.05978806,  0.069986  , -1.07978406, ...,  1.12977407,\n",
       "         -0.13997201,  1.10977807]],\n",
       "\n",
       "       [[-1.03460398,  0.17437146, -1.01135446, ...,  1.03460398,\n",
       "         -0.03487429,  1.01135446],\n",
       "        [-1.05785351,  0.15112193, -1.01135446, ...,  1.01135446,\n",
       "         -0.03487429,  1.01135446],\n",
       "        [-1.03460398,  0.15112193, -1.01135446, ...,  1.03460398,\n",
       "         -0.03487429,  1.01135446],\n",
       "        ..., \n",
       "        [-1.03376614,  0.1858456 , -0.98730474, ...,  1.06861219,\n",
       "         -0.05807675,  1.06861219],\n",
       "        [-1.04643329,  0.1902606 , -1.02265071, ...,  1.09399844,\n",
       "         -0.07134772,  1.09399844],\n",
       "        [-1.07112501,  0.20232361, -1.02351945, ...,  1.10682917,\n",
       "         -0.04760556,  1.0830264 ]]])"
      ]
     },
     "execution_count": 9,
     "metadata": {},
     "output_type": "execute_result"
    }
   ],
   "source": [
    "landmark_inputs"
   ]
  },
  {
   "cell_type": "code",
   "execution_count": null,
   "metadata": {},
   "outputs": [],
   "source": []
  }
 ],
 "metadata": {
  "kernelspec": {
   "display_name": "Python 3",
   "language": "python",
   "name": "python3"
  },
  "language_info": {
   "codemirror_mode": {
    "name": "ipython",
    "version": 3
   },
   "file_extension": ".py",
   "mimetype": "text/x-python",
   "name": "python",
   "nbconvert_exporter": "python",
   "pygments_lexer": "ipython3",
   "version": "3.5.2"
  }
 },
 "nbformat": 4,
 "nbformat_minor": 2
}
